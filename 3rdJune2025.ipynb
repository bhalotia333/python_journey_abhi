{
 "cells": [
  {
   "cell_type": "code",
   "execution_count": 1,
   "id": "be0bece9-ce65-40e5-989d-d4ec0e08dbf9",
   "metadata": {},
   "outputs": [
    {
     "name": "stdout",
     "output_type": "stream",
     "text": [
      "Hello World\n"
     ]
    }
   ],
   "source": [
    "print(\"Hello World\")"
   ]
  },
  {
   "cell_type": "code",
   "execution_count": null,
   "id": "c8b7826a-169d-4c70-8aa2-37ae0f22b9fd",
   "metadata": {},
   "outputs": [],
   "source": [
    "##variables##"
   ]
  },
  {
   "cell_type": "code",
   "execution_count": 2,
   "id": "48b52106-dc07-43cb-8d6f-0ef50923cf79",
   "metadata": {},
   "outputs": [],
   "source": [
    "a = 'Abhi'"
   ]
  },
  {
   "cell_type": "code",
   "execution_count": 3,
   "id": "23c10ff2-4f2f-438e-ad6c-e35f09037642",
   "metadata": {},
   "outputs": [
    {
     "data": {
      "text/plain": [
       "'Abhi'"
      ]
     },
     "execution_count": 3,
     "metadata": {},
     "output_type": "execute_result"
    }
   ],
   "source": [
    "a"
   ]
  },
  {
   "cell_type": "code",
   "execution_count": 4,
   "id": "1015770b-a14e-411b-9269-9df43836438b",
   "metadata": {},
   "outputs": [],
   "source": [
    "b = 53"
   ]
  },
  {
   "cell_type": "code",
   "execution_count": 5,
   "id": "7d879dde-cb03-4254-b463-613c0c9c0a67",
   "metadata": {},
   "outputs": [
    {
     "data": {
      "text/plain": [
       "53"
      ]
     },
     "execution_count": 5,
     "metadata": {},
     "output_type": "execute_result"
    }
   ],
   "source": [
    "b"
   ]
  },
  {
   "cell_type": "code",
   "execution_count": 6,
   "id": "36ae505d-6ee5-4030-b018-a5c8afae3c54",
   "metadata": {},
   "outputs": [],
   "source": [
    "c = 766.7"
   ]
  },
  {
   "cell_type": "code",
   "execution_count": 7,
   "id": "b6f1b381-7dce-4579-802d-3ddc0d6ebcc3",
   "metadata": {},
   "outputs": [
    {
     "data": {
      "text/plain": [
       "766.7"
      ]
     },
     "execution_count": 7,
     "metadata": {},
     "output_type": "execute_result"
    }
   ],
   "source": [
    "c"
   ]
  },
  {
   "cell_type": "code",
   "execution_count": 8,
   "id": "270668b9-99b8-4896-9bae-541782a585cc",
   "metadata": {},
   "outputs": [
    {
     "data": {
      "text/plain": [
       "str"
      ]
     },
     "execution_count": 8,
     "metadata": {},
     "output_type": "execute_result"
    }
   ],
   "source": [
    "type(a)"
   ]
  },
  {
   "cell_type": "code",
   "execution_count": 9,
   "id": "6306eefb-8144-46af-9ef4-9f5a0a37dd1a",
   "metadata": {},
   "outputs": [
    {
     "data": {
      "text/plain": [
       "int"
      ]
     },
     "execution_count": 9,
     "metadata": {},
     "output_type": "execute_result"
    }
   ],
   "source": [
    "type(b)"
   ]
  },
  {
   "cell_type": "code",
   "execution_count": 10,
   "id": "77a367c8-18c3-4717-98a9-1e775e90a5ed",
   "metadata": {},
   "outputs": [
    {
     "data": {
      "text/plain": [
       "float"
      ]
     },
     "execution_count": 10,
     "metadata": {},
     "output_type": "execute_result"
    }
   ],
   "source": [
    "type(c)"
   ]
  },
  {
   "cell_type": "code",
   "execution_count": null,
   "id": "8e818412-be85-446d-823e-eb74235ea35a",
   "metadata": {},
   "outputs": [],
   "source": [
    "##user input"
   ]
  },
  {
   "cell_type": "code",
   "execution_count": 12,
   "id": "0f939fe7-d141-4eb4-b07d-8ead345dd18c",
   "metadata": {},
   "outputs": [
    {
     "name": "stdin",
     "output_type": "stream",
     "text": [
      "Enter your age:   34\n"
     ]
    },
    {
     "name": "stdout",
     "output_type": "stream",
     "text": [
      "34\n"
     ]
    },
    {
     "data": {
      "text/plain": [
       "int"
      ]
     },
     "execution_count": 12,
     "metadata": {},
     "output_type": "execute_result"
    }
   ],
   "source": [
    "age = int(input(\"Enter your age:  \"))\n",
    "print(age)\n",
    "type(age)"
   ]
  },
  {
   "cell_type": "code",
   "execution_count": null,
   "id": "34d41d82-1e12-487f-a00a-51b96c2a3c72",
   "metadata": {},
   "outputs": [],
   "source": [
    "##operators"
   ]
  },
  {
   "cell_type": "code",
   "execution_count": 13,
   "id": "eb06698f-cabd-4433-b574-2e989d14b512",
   "metadata": {},
   "outputs": [],
   "source": [
    "a = 5\n",
    "b = 3"
   ]
  },
  {
   "cell_type": "code",
   "execution_count": 14,
   "id": "64c1ca19-e521-4dff-9139-3a93ff5875e2",
   "metadata": {},
   "outputs": [
    {
     "data": {
      "text/plain": [
       "8"
      ]
     },
     "execution_count": 14,
     "metadata": {},
     "output_type": "execute_result"
    }
   ],
   "source": [
    "a + b"
   ]
  },
  {
   "cell_type": "code",
   "execution_count": 15,
   "id": "d85e5fa6-dfc2-4833-9bc4-b156aadbc797",
   "metadata": {},
   "outputs": [
    {
     "data": {
      "text/plain": [
       "2"
      ]
     },
     "execution_count": 15,
     "metadata": {},
     "output_type": "execute_result"
    }
   ],
   "source": [
    "a - b"
   ]
  },
  {
   "cell_type": "code",
   "execution_count": 16,
   "id": "fe4e9c66-6914-41e9-90b5-7af0c01ffee2",
   "metadata": {},
   "outputs": [
    {
     "data": {
      "text/plain": [
       "15"
      ]
     },
     "execution_count": 16,
     "metadata": {},
     "output_type": "execute_result"
    }
   ],
   "source": [
    "a *b"
   ]
  },
  {
   "cell_type": "code",
   "execution_count": 17,
   "id": "9b5dffa8-e9fe-4009-b2cd-b9fa78a1ce39",
   "metadata": {},
   "outputs": [
    {
     "data": {
      "text/plain": [
       "1.6666666666666667"
      ]
     },
     "execution_count": 17,
     "metadata": {},
     "output_type": "execute_result"
    }
   ],
   "source": [
    "a/b"
   ]
  },
  {
   "cell_type": "code",
   "execution_count": 18,
   "id": "e597b92d-b581-438f-9eed-8f78c164094e",
   "metadata": {},
   "outputs": [
    {
     "data": {
      "text/plain": [
       "2"
      ]
     },
     "execution_count": 18,
     "metadata": {},
     "output_type": "execute_result"
    }
   ],
   "source": [
    "a%b"
   ]
  },
  {
   "cell_type": "code",
   "execution_count": 20,
   "id": "a8c8eaaf-74a6-4df6-bedc-57b5de0bde3e",
   "metadata": {},
   "outputs": [
    {
     "data": {
      "text/plain": [
       "125"
      ]
     },
     "execution_count": 20,
     "metadata": {},
     "output_type": "execute_result"
    }
   ],
   "source": [
    "a**b"
   ]
  },
  {
   "cell_type": "code",
   "execution_count": 21,
   "id": "3040c190-e611-4a96-9baa-4bc080732580",
   "metadata": {},
   "outputs": [
    {
     "data": {
      "text/plain": [
       "True"
      ]
     },
     "execution_count": 21,
     "metadata": {},
     "output_type": "execute_result"
    }
   ],
   "source": [
    "a>b"
   ]
  },
  {
   "cell_type": "code",
   "execution_count": 22,
   "id": "35800878-62a6-479d-8840-122e128a0316",
   "metadata": {},
   "outputs": [
    {
     "data": {
      "text/plain": [
       "False"
      ]
     },
     "execution_count": 22,
     "metadata": {},
     "output_type": "execute_result"
    }
   ],
   "source": [
    "a==b"
   ]
  },
  {
   "cell_type": "code",
   "execution_count": 23,
   "id": "ca1bdb3d-9c72-479f-b9cb-32d75cf09811",
   "metadata": {},
   "outputs": [
    {
     "data": {
      "text/plain": [
       "True"
      ]
     },
     "execution_count": 23,
     "metadata": {},
     "output_type": "execute_result"
    }
   ],
   "source": [
    "a!=b"
   ]
  },
  {
   "cell_type": "code",
   "execution_count": null,
   "id": "b5bd52b7-7ac8-41b2-becc-4f0dc75d4c0a",
   "metadata": {},
   "outputs": [],
   "source": [
    "##tokens"
   ]
  },
  {
   "cell_type": "code",
   "execution_count": 24,
   "id": "0dc97f9f-6afb-4e0b-ad97-b894e4411076",
   "metadata": {},
   "outputs": [],
   "source": [
    "ab = \"Abhishek\"\n",
    "cd = \"Bhalotia\""
   ]
  },
  {
   "cell_type": "code",
   "execution_count": 28,
   "id": "f91ac952-ed10-4f58-a16a-aa487ebd3346",
   "metadata": {},
   "outputs": [
    {
     "data": {
      "text/plain": [
       "'Abhishek Bhalotia'"
      ]
     },
     "execution_count": 28,
     "metadata": {},
     "output_type": "execute_result"
    }
   ],
   "source": [
    "ab + \" \" + cd"
   ]
  },
  {
   "cell_type": "code",
   "execution_count": 29,
   "id": "5d3a4d27-791a-4fe4-b9d7-912d72891b30",
   "metadata": {},
   "outputs": [
    {
     "data": {
      "text/plain": [
       "'A'"
      ]
     },
     "execution_count": 29,
     "metadata": {},
     "output_type": "execute_result"
    }
   ],
   "source": [
    "##Indexing"
   ]
  },
  {
   "cell_type": "code",
   "execution_count": 29,
   "id": "465ef4ed-336a-444b-b432-9bd763e6e602",
   "metadata": {},
   "outputs": [
    {
     "data": {
      "text/plain": [
       "'A'"
      ]
     },
     "execution_count": 29,
     "metadata": {},
     "output_type": "execute_result"
    }
   ],
   "source": [
    "ab[0]"
   ]
  },
  {
   "cell_type": "code",
   "execution_count": 31,
   "id": "d5224641-2e2e-4bf4-adb3-302581966ceb",
   "metadata": {},
   "outputs": [
    {
     "data": {
      "text/plain": [
       "'a'"
      ]
     },
     "execution_count": 31,
     "metadata": {},
     "output_type": "execute_result"
    }
   ],
   "source": [
    "cd[-1]"
   ]
  },
  {
   "cell_type": "code",
   "execution_count": 34,
   "id": "020851ca-e9e6-4646-a70b-b9c82b450c02",
   "metadata": {},
   "outputs": [
    {
     "data": {
      "text/plain": [
       "'Abhishek'"
      ]
     },
     "execution_count": 34,
     "metadata": {},
     "output_type": "execute_result"
    }
   ],
   "source": [
    "ab[0:8]"
   ]
  },
  {
   "cell_type": "code",
   "execution_count": 35,
   "id": "0764c8d1-797e-4302-9d72-dd0e808fbea0",
   "metadata": {},
   "outputs": [
    {
     "data": {
      "text/plain": [
       "'ABHISHEK'"
      ]
     },
     "execution_count": 35,
     "metadata": {},
     "output_type": "execute_result"
    }
   ],
   "source": [
    "ab.upper()"
   ]
  },
  {
   "cell_type": "code",
   "execution_count": 37,
   "id": "c4619c28-0b37-436b-abc1-69f5c0a2880c",
   "metadata": {},
   "outputs": [
    {
     "data": {
      "text/plain": [
       "8"
      ]
     },
     "execution_count": 37,
     "metadata": {},
     "output_type": "execute_result"
    }
   ],
   "source": [
    "len(ab)"
   ]
  },
  {
   "cell_type": "code",
   "execution_count": 40,
   "id": "a49b73c5-1f70-4de0-91da-9ae189b1058c",
   "metadata": {},
   "outputs": [
    {
     "data": {
      "text/plain": [
       "'hbhishek'"
      ]
     },
     "execution_count": 40,
     "metadata": {},
     "output_type": "execute_result"
    }
   ],
   "source": [
    "ab.replace('A','h')"
   ]
  },
  {
   "cell_type": "code",
   "execution_count": null,
   "id": "527531a5-940d-4246-8210-2fb9a7631203",
   "metadata": {},
   "outputs": [],
   "source": [
    "##Tuples"
   ]
  },
  {
   "cell_type": "code",
   "execution_count": 43,
   "id": "c40c7279-a153-4887-9725-9a06d5f9dc43",
   "metadata": {},
   "outputs": [
    {
     "name": "stdout",
     "output_type": "stream",
     "text": [
      "(1, 'a', True, 'b', -3, False)\n"
     ]
    },
    {
     "data": {
      "text/plain": [
       "tuple"
      ]
     },
     "execution_count": 43,
     "metadata": {},
     "output_type": "execute_result"
    }
   ],
   "source": [
    "tup1 = (1,\"a\",True,\"b\",-3,False)\n",
    "print(tup1)\n",
    "type(tup1)"
   ]
  },
  {
   "cell_type": "code",
   "execution_count": 45,
   "id": "d22db213-f6ab-4290-93e9-65864e369502",
   "metadata": {},
   "outputs": [
    {
     "data": {
      "text/plain": [
       "6"
      ]
     },
     "execution_count": 45,
     "metadata": {},
     "output_type": "execute_result"
    }
   ],
   "source": [
    "len(tup1)"
   ]
  },
  {
   "cell_type": "code",
   "execution_count": null,
   "id": "dc7567d2-b13d-432e-a5f9-1c9bc82112d2",
   "metadata": {},
   "outputs": [],
   "source": [
    "##lists"
   ]
  },
  {
   "cell_type": "code",
   "execution_count": 46,
   "id": "67e3930c-86e5-4e72-b7d4-97811e82fa30",
   "metadata": {},
   "outputs": [
    {
     "name": "stdout",
     "output_type": "stream",
     "text": [
      "[1, 'a', True, 2, 3, 'b']\n"
     ]
    },
    {
     "data": {
      "text/plain": [
       "list"
      ]
     },
     "execution_count": 46,
     "metadata": {},
     "output_type": "execute_result"
    }
   ],
   "source": [
    "l1 = [1,\"a\",True,2,3,\"b\"]\n",
    "print(l1)\n",
    "type(l1)"
   ]
  },
  {
   "cell_type": "code",
   "execution_count": 48,
   "id": "59949b7e-53ff-4602-84eb-2c7a0c356508",
   "metadata": {},
   "outputs": [
    {
     "data": {
      "text/plain": [
       "[1, 'a', True, 2, 3, 'b', 'abhi', 'abhi']"
      ]
     },
     "execution_count": 48,
     "metadata": {},
     "output_type": "execute_result"
    }
   ],
   "source": [
    "l1.append(\"abhi\")\n",
    "l1"
   ]
  },
  {
   "cell_type": "code",
   "execution_count": 49,
   "id": "32e1aac0-4afd-424e-a7a0-f98fcb845621",
   "metadata": {},
   "outputs": [
    {
     "data": {
      "text/plain": [
       "[1, 'a', True, 2, 3, 'b', 'abhi']"
      ]
     },
     "execution_count": 49,
     "metadata": {},
     "output_type": "execute_result"
    }
   ],
   "source": [
    "l1.pop()\n",
    "l1"
   ]
  },
  {
   "cell_type": "code",
   "execution_count": 50,
   "id": "76bdc521-2dd6-49e2-be7b-57eb5adba2c5",
   "metadata": {},
   "outputs": [],
   "source": [
    "l1.reverse()"
   ]
  },
  {
   "cell_type": "code",
   "execution_count": 51,
   "id": "782cc14f-485a-4284-a634-ffe1832e2ba7",
   "metadata": {},
   "outputs": [
    {
     "data": {
      "text/plain": [
       "['abhi', 'b', 3, 2, True, 'a', 1]"
      ]
     },
     "execution_count": 51,
     "metadata": {},
     "output_type": "execute_result"
    }
   ],
   "source": [
    "l1"
   ]
  },
  {
   "cell_type": "code",
   "execution_count": 52,
   "id": "47c3d91a-19fc-419e-969c-982c8473ff8d",
   "metadata": {},
   "outputs": [
    {
     "ename": "TypeError",
     "evalue": "'<' not supported between instances of 'int' and 'str'",
     "output_type": "error",
     "traceback": [
      "\u001b[1;31m---------------------------------------------------------------------------\u001b[0m",
      "\u001b[1;31mTypeError\u001b[0m                                 Traceback (most recent call last)",
      "Cell \u001b[1;32mIn[52], line 1\u001b[0m\n\u001b[1;32m----> 1\u001b[0m l1\u001b[38;5;241m.\u001b[39msort()\n\u001b[0;32m      2\u001b[0m l1\n",
      "\u001b[1;31mTypeError\u001b[0m: '<' not supported between instances of 'int' and 'str'"
     ]
    }
   ],
   "source": [
    "l1.sort()\n",
    "l1"
   ]
  },
  {
   "cell_type": "code",
   "execution_count": null,
   "id": "4a8d7ee6-5d4e-4311-9447-eef0bd9b9a31",
   "metadata": {},
   "outputs": [],
   "source": [
    "##Dictionary"
   ]
  },
  {
   "cell_type": "code",
   "execution_count": 53,
   "id": "6849dc25-09f1-4333-9e75-757a6c2403f4",
   "metadata": {},
   "outputs": [
    {
     "data": {
      "text/plain": [
       "dict"
      ]
     },
     "execution_count": 53,
     "metadata": {},
     "output_type": "execute_result"
    }
   ],
   "source": [
    "fruit = {'apple':50,'banana':40}\n",
    "fruit\n",
    "type(fruit)"
   ]
  },
  {
   "cell_type": "code",
   "execution_count": 55,
   "id": "dd2f4f9f-8719-454d-b8f9-33a8bd895a20",
   "metadata": {},
   "outputs": [
    {
     "data": {
      "text/plain": [
       "dict_values([50, 40])"
      ]
     },
     "execution_count": 55,
     "metadata": {},
     "output_type": "execute_result"
    }
   ],
   "source": [
    "fruit.keys()\n",
    "fruit.values()"
   ]
  },
  {
   "cell_type": "code",
   "execution_count": 56,
   "id": "11f0d276-ee9a-4502-a253-f15ede3f8413",
   "metadata": {},
   "outputs": [
    {
     "data": {
      "text/plain": [
       "dict_items([('apple', 50), ('banana', 40)])"
      ]
     },
     "execution_count": 56,
     "metadata": {},
     "output_type": "execute_result"
    }
   ],
   "source": [
    "fruit.items()"
   ]
  },
  {
   "cell_type": "code",
   "execution_count": 57,
   "id": "f71b9345-2a9f-45f6-8ba9-f622debbe245",
   "metadata": {},
   "outputs": [
    {
     "data": {
      "text/plain": [
       "{'apple': 50, 'banana': 40, 'Mango': 100}"
      ]
     },
     "execution_count": 57,
     "metadata": {},
     "output_type": "execute_result"
    }
   ],
   "source": [
    "fruit[\"Mango\"] = 100\n",
    "fruit"
   ]
  },
  {
   "cell_type": "code",
   "execution_count": 60,
   "id": "0cb57571-6dd5-4780-b331-566655fd7e7c",
   "metadata": {},
   "outputs": [
    {
     "data": {
      "text/plain": [
       "{'apple': 60, 'banana': 40, 'Mango': 100}"
      ]
     },
     "execution_count": 60,
     "metadata": {},
     "output_type": "execute_result"
    }
   ],
   "source": [
    "fruit[\"apple\"] = 60\n",
    "fruit"
   ]
  },
  {
   "cell_type": "code",
   "execution_count": 62,
   "id": "294c7276-f14b-425d-8323-ac9e6249e410",
   "metadata": {},
   "outputs": [],
   "source": [
    "fruit2 =  {'orange':70,'peach':30}"
   ]
  },
  {
   "cell_type": "code",
   "execution_count": 64,
   "id": "ed253ef5-83a9-445f-9925-1de412464436",
   "metadata": {},
   "outputs": [
    {
     "data": {
      "text/plain": [
       "{'apple': 60, 'banana': 40, 'Mango': 100, 'orange': 70, 'peach': 30}"
      ]
     },
     "execution_count": 64,
     "metadata": {},
     "output_type": "execute_result"
    }
   ],
   "source": [
    "fruit.update(fruit2)\n",
    "fruit"
   ]
  },
  {
   "cell_type": "code",
   "execution_count": 67,
   "id": "0de6e99f-c129-40da-9713-7d8377470982",
   "metadata": {},
   "outputs": [
    {
     "ename": "KeyError",
     "evalue": "'peach'",
     "output_type": "error",
     "traceback": [
      "\u001b[1;31m---------------------------------------------------------------------------\u001b[0m",
      "\u001b[1;31mKeyError\u001b[0m                                  Traceback (most recent call last)",
      "Cell \u001b[1;32mIn[67], line 1\u001b[0m\n\u001b[1;32m----> 1\u001b[0m fruit\u001b[38;5;241m.\u001b[39mpop(\u001b[38;5;124m\"\u001b[39m\u001b[38;5;124mpeach\u001b[39m\u001b[38;5;124m\"\u001b[39m)\n",
      "\u001b[1;31mKeyError\u001b[0m: 'peach'"
     ]
    }
   ],
   "source": [
    "fruit.pop(\"peach\")"
   ]
  },
  {
   "cell_type": "code",
   "execution_count": 68,
   "id": "8180ce96-bb0e-4ba2-93bf-7df65845b520",
   "metadata": {},
   "outputs": [
    {
     "data": {
      "text/plain": [
       "{'apple': 60, 'banana': 40, 'Mango': 100, 'orange': 70}"
      ]
     },
     "execution_count": 68,
     "metadata": {},
     "output_type": "execute_result"
    }
   ],
   "source": [
    "fruit"
   ]
  },
  {
   "cell_type": "code",
   "execution_count": null,
   "id": "af855c3a-e906-4224-86d2-04002bfd683e",
   "metadata": {},
   "outputs": [],
   "source": [
    "##sets"
   ]
  },
  {
   "cell_type": "code",
   "execution_count": 69,
   "id": "6cd41311-2d45-49c3-bae2-db1812f1aae5",
   "metadata": {},
   "outputs": [
    {
     "data": {
      "text/plain": [
       "set"
      ]
     },
     "execution_count": 69,
     "metadata": {},
     "output_type": "execute_result"
    }
   ],
   "source": [
    "s1 = {1,\"abhi\", \"abhi\"}\n",
    "s1\n",
    "type(s1)"
   ]
  },
  {
   "cell_type": "code",
   "execution_count": 70,
   "id": "e1279e32-7772-4a26-a539-23c46364214a",
   "metadata": {},
   "outputs": [
    {
     "data": {
      "text/plain": [
       "{1, 'abhi'}"
      ]
     },
     "execution_count": 70,
     "metadata": {},
     "output_type": "execute_result"
    }
   ],
   "source": [
    "s1"
   ]
  },
  {
   "cell_type": "code",
   "execution_count": null,
   "id": "ce34f84e-fecd-4787-8872-cd56c5b273fa",
   "metadata": {},
   "outputs": [],
   "source": [
    "##If else"
   ]
  },
  {
   "cell_type": "code",
   "execution_count": 71,
   "id": "5433b404-1859-4bf7-9802-6bfb21a7a677",
   "metadata": {},
   "outputs": [],
   "source": [
    "a=10\n",
    "b=20"
   ]
  },
  {
   "cell_type": "code",
   "execution_count": 76,
   "id": "9eb842b6-9418-4573-8f17-54b374f5b607",
   "metadata": {},
   "outputs": [
    {
     "name": "stdout",
     "output_type": "stream",
     "text": [
      "FALSE\n"
     ]
    }
   ],
   "source": [
    "if a >b:\n",
    "    print(\"TRUE\")\n",
    "else: print(\"FALSE\")"
   ]
  },
  {
   "cell_type": "code",
   "execution_count": 77,
   "id": "44441f88-1452-46e2-9cbb-47169cba61c7",
   "metadata": {},
   "outputs": [],
   "source": [
    "l2 = [1,2,3,4,5]"
   ]
  },
  {
   "cell_type": "code",
   "execution_count": 79,
   "id": "b63c65b2-5b62-4037-a88d-5ffc85d97902",
   "metadata": {},
   "outputs": [],
   "source": [
    "if l2[1] == 2:\n",
    "    l2[1] = 100+100"
   ]
  },
  {
   "cell_type": "code",
   "execution_count": 80,
   "id": "d6087567-6265-45ce-ab8e-750965da52d6",
   "metadata": {},
   "outputs": [
    {
     "data": {
      "text/plain": [
       "[1, 200, 3, 4, 5]"
      ]
     },
     "execution_count": 80,
     "metadata": {},
     "output_type": "execute_result"
    }
   ],
   "source": [
    "l2"
   ]
  },
  {
   "cell_type": "code",
   "execution_count": null,
   "id": "780888b1-e603-4a51-aa38-228da9fa0010",
   "metadata": {},
   "outputs": [],
   "source": [
    "##simple intrest"
   ]
  },
  {
   "cell_type": "code",
   "execution_count": 81,
   "id": "a24dfeac-0220-4649-9568-d41b7fd2714d",
   "metadata": {},
   "outputs": [],
   "source": [
    "def si(p,r,t):\n",
    "    si = p * r * t/100\n",
    "    return si"
   ]
  },
  {
   "cell_type": "code",
   "execution_count": 85,
   "id": "633588fc-9542-42dd-9308-a261d2702dd2",
   "metadata": {},
   "outputs": [],
   "source": [
    "intr = si(500000, 8.75, 20)"
   ]
  },
  {
   "cell_type": "code",
   "execution_count": 86,
   "id": "9745659d-5ee1-43b4-8da1-7eb84e0fa45b",
   "metadata": {},
   "outputs": [
    {
     "name": "stdout",
     "output_type": "stream",
     "text": [
      "875000.0\n"
     ]
    }
   ],
   "source": [
    "print(intr)"
   ]
  },
  {
   "cell_type": "code",
   "execution_count": null,
   "id": "ec34e15c-6d66-4d91-b5f0-b946a03162f2",
   "metadata": {},
   "outputs": [],
   "source": [
    "##oops"
   ]
  },
  {
   "cell_type": "code",
   "execution_count": null,
   "id": "d21b5833-3878-4a1c-a778-53984db75c74",
   "metadata": {},
   "outputs": [],
   "source": []
  },
  {
   "cell_type": "code",
   "execution_count": null,
   "id": "06dcae35-4d64-4876-b922-69eac0c55c71",
   "metadata": {},
   "outputs": [],
   "source": []
  },
  {
   "cell_type": "code",
   "execution_count": null,
   "id": "af541e31-9220-44a8-8392-b4ee117b3267",
   "metadata": {},
   "outputs": [],
   "source": []
  },
  {
   "cell_type": "code",
   "execution_count": null,
   "id": "c745e368-242b-47cd-a32c-3295ce977d89",
   "metadata": {},
   "outputs": [],
   "source": []
  },
  {
   "cell_type": "code",
   "execution_count": null,
   "id": "332fbea0-2900-4c7f-a727-756451de2f05",
   "metadata": {},
   "outputs": [],
   "source": []
  },
  {
   "cell_type": "code",
   "execution_count": null,
   "id": "09354ef1-ee83-4d50-a603-f4bf7ea92111",
   "metadata": {},
   "outputs": [],
   "source": []
  },
  {
   "cell_type": "code",
   "execution_count": null,
   "id": "41156054-7871-4717-b45b-64345bcf17c7",
   "metadata": {},
   "outputs": [],
   "source": []
  },
  {
   "cell_type": "code",
   "execution_count": null,
   "id": "28ff9469-2bb3-4782-88e1-e1cdbb34301e",
   "metadata": {},
   "outputs": [],
   "source": []
  },
  {
   "cell_type": "code",
   "execution_count": null,
   "id": "aa9ad2a7-84ba-4206-8f0e-d451dd613679",
   "metadata": {},
   "outputs": [],
   "source": []
  },
  {
   "cell_type": "code",
   "execution_count": null,
   "id": "5468c365-c48c-4329-b090-2376b9e4da06",
   "metadata": {},
   "outputs": [],
   "source": []
  },
  {
   "cell_type": "code",
   "execution_count": null,
   "id": "90f47446-e7bf-474a-94ea-28d62ee6ce2f",
   "metadata": {},
   "outputs": [],
   "source": []
  },
  {
   "cell_type": "code",
   "execution_count": null,
   "id": "6df8da99-8a29-4c25-8f4a-e49d5054db90",
   "metadata": {},
   "outputs": [],
   "source": []
  },
  {
   "cell_type": "code",
   "execution_count": null,
   "id": "0561de0d-7a05-45eb-aef8-011e7c1b796e",
   "metadata": {},
   "outputs": [],
   "source": []
  },
  {
   "cell_type": "code",
   "execution_count": null,
   "id": "ce94d9b0-f3e5-4a87-96cc-0580ef8f55fe",
   "metadata": {},
   "outputs": [],
   "source": []
  },
  {
   "cell_type": "code",
   "execution_count": null,
   "id": "a16f775f-2868-45bc-a102-a9ba967ec64b",
   "metadata": {},
   "outputs": [],
   "source": []
  },
  {
   "cell_type": "code",
   "execution_count": null,
   "id": "28499b37-e27e-4408-8b61-d7c93d756158",
   "metadata": {},
   "outputs": [],
   "source": []
  },
  {
   "cell_type": "code",
   "execution_count": null,
   "id": "427ab417-d789-40e8-a93f-612f1c60c94a",
   "metadata": {},
   "outputs": [],
   "source": []
  },
  {
   "cell_type": "code",
   "execution_count": null,
   "id": "8e595f9a-522c-4e59-bf21-fc1cc88339be",
   "metadata": {},
   "outputs": [],
   "source": []
  }
 ],
 "metadata": {
  "kernelspec": {
   "display_name": "Python 3 (ipykernel)",
   "language": "python",
   "name": "python3"
  },
  "language_info": {
   "codemirror_mode": {
    "name": "ipython",
    "version": 3
   },
   "file_extension": ".py",
   "mimetype": "text/x-python",
   "name": "python",
   "nbconvert_exporter": "python",
   "pygments_lexer": "ipython3",
   "version": "3.12.4"
  }
 },
 "nbformat": 4,
 "nbformat_minor": 5
}
