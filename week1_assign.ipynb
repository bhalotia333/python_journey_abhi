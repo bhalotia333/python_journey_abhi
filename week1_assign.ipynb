{
 "cells": [
  {
   "cell_type": "code",
   "execution_count": 1,
   "id": "f1d167ed-0e7c-47d4-82ed-e1cb93a71faa",
   "metadata": {},
   "outputs": [],
   "source": [
    "import pandas as pd"
   ]
  },
  {
   "cell_type": "code",
   "execution_count": 3,
   "id": "116aa9d4-60a1-4c3f-8a1c-14945af664d8",
   "metadata": {},
   "outputs": [],
   "source": [
    "df = pd.read_csv(\"C://Users//GIEWK//OneDrive - Bayer//Personal Data//Abhishek Bhalotia//pythonnotes//June2025//feasibility_data.csv\")"
   ]
  },
  {
   "cell_type": "code",
   "execution_count": 4,
   "id": "5ae76d6c-48ef-45dc-a60c-147b256c3aab",
   "metadata": {},
   "outputs": [
    {
     "data": {
      "text/html": [
       "<div>\n",
       "<style scoped>\n",
       "    .dataframe tbody tr th:only-of-type {\n",
       "        vertical-align: middle;\n",
       "    }\n",
       "\n",
       "    .dataframe tbody tr th {\n",
       "        vertical-align: top;\n",
       "    }\n",
       "\n",
       "    .dataframe thead th {\n",
       "        text-align: right;\n",
       "    }\n",
       "</style>\n",
       "<table border=\"1\" class=\"dataframe\">\n",
       "  <thead>\n",
       "    <tr style=\"text-align: right;\">\n",
       "      <th></th>\n",
       "      <th>Site_ID</th>\n",
       "      <th>Country</th>\n",
       "      <th>Screened</th>\n",
       "      <th>Randomized</th>\n",
       "      <th>Status</th>\n",
       "    </tr>\n",
       "  </thead>\n",
       "  <tbody>\n",
       "    <tr>\n",
       "      <th>0</th>\n",
       "      <td>101</td>\n",
       "      <td>IN</td>\n",
       "      <td>20</td>\n",
       "      <td>10</td>\n",
       "      <td>Active</td>\n",
       "    </tr>\n",
       "    <tr>\n",
       "      <th>1</th>\n",
       "      <td>102</td>\n",
       "      <td>US</td>\n",
       "      <td>25</td>\n",
       "      <td>12</td>\n",
       "      <td>Completed</td>\n",
       "    </tr>\n",
       "    <tr>\n",
       "      <th>2</th>\n",
       "      <td>103</td>\n",
       "      <td>DE</td>\n",
       "      <td>18</td>\n",
       "      <td>5</td>\n",
       "      <td>Terminated</td>\n",
       "    </tr>\n",
       "    <tr>\n",
       "      <th>3</th>\n",
       "      <td>104</td>\n",
       "      <td>FR</td>\n",
       "      <td>-</td>\n",
       "      <td>8</td>\n",
       "      <td>Active</td>\n",
       "    </tr>\n",
       "    <tr>\n",
       "      <th>4</th>\n",
       "      <td>105</td>\n",
       "      <td>IN</td>\n",
       "      <td>15</td>\n",
       "      <td>7</td>\n",
       "      <td>Completed</td>\n",
       "    </tr>\n",
       "  </tbody>\n",
       "</table>\n",
       "</div>"
      ],
      "text/plain": [
       "   Site_ID Country Screened  Randomized      Status\n",
       "0      101      IN       20          10      Active\n",
       "1      102      US       25          12   Completed\n",
       "2      103      DE       18           5  Terminated\n",
       "3      104      FR        -           8      Active\n",
       "4      105      IN       15           7   Completed"
      ]
     },
     "execution_count": 4,
     "metadata": {},
     "output_type": "execute_result"
    }
   ],
   "source": [
    "df"
   ]
  },
  {
   "cell_type": "code",
   "execution_count": 5,
   "id": "28c868a0-e961-4f91-820a-5f588424f440",
   "metadata": {},
   "outputs": [
    {
     "data": {
      "text/plain": [
       "pandas.core.frame.DataFrame"
      ]
     },
     "execution_count": 5,
     "metadata": {},
     "output_type": "execute_result"
    }
   ],
   "source": [
    "type(df)"
   ]
  },
  {
   "cell_type": "code",
   "execution_count": 8,
   "id": "bc0e2125-63e9-4426-8bed-3b36dca55edd",
   "metadata": {},
   "outputs": [
    {
     "data": {
      "text/plain": [
       "Site_ID        int64\n",
       "Country       object\n",
       "Screened      object\n",
       "Randomized     int64\n",
       "Status        object\n",
       "dtype: object"
      ]
     },
     "execution_count": 8,
     "metadata": {},
     "output_type": "execute_result"
    }
   ],
   "source": [
    "df.dtypes"
   ]
  },
  {
   "cell_type": "code",
   "execution_count": 9,
   "id": "5946db66-a804-4437-aa56-2772373305ed",
   "metadata": {},
   "outputs": [],
   "source": [
    "df['Screened'] = df['Screened'].replace('-',0)"
   ]
  },
  {
   "cell_type": "code",
   "execution_count": 10,
   "id": "a084de61-de8a-4559-baa2-1212067900c0",
   "metadata": {},
   "outputs": [
    {
     "data": {
      "text/plain": [
       "Site_ID        int64\n",
       "Country       object\n",
       "Screened      object\n",
       "Randomized     int64\n",
       "Status        object\n",
       "dtype: object"
      ]
     },
     "execution_count": 10,
     "metadata": {},
     "output_type": "execute_result"
    }
   ],
   "source": [
    "df.dtypes"
   ]
  },
  {
   "cell_type": "code",
   "execution_count": 11,
   "id": "2e8cd185-3a19-421f-a53b-61f99cfe1c29",
   "metadata": {},
   "outputs": [
    {
     "data": {
      "text/html": [
       "<div>\n",
       "<style scoped>\n",
       "    .dataframe tbody tr th:only-of-type {\n",
       "        vertical-align: middle;\n",
       "    }\n",
       "\n",
       "    .dataframe tbody tr th {\n",
       "        vertical-align: top;\n",
       "    }\n",
       "\n",
       "    .dataframe thead th {\n",
       "        text-align: right;\n",
       "    }\n",
       "</style>\n",
       "<table border=\"1\" class=\"dataframe\">\n",
       "  <thead>\n",
       "    <tr style=\"text-align: right;\">\n",
       "      <th></th>\n",
       "      <th>Site_ID</th>\n",
       "      <th>Country</th>\n",
       "      <th>Screened</th>\n",
       "      <th>Randomized</th>\n",
       "      <th>Status</th>\n",
       "    </tr>\n",
       "  </thead>\n",
       "  <tbody>\n",
       "    <tr>\n",
       "      <th>0</th>\n",
       "      <td>101</td>\n",
       "      <td>IN</td>\n",
       "      <td>20</td>\n",
       "      <td>10</td>\n",
       "      <td>Active</td>\n",
       "    </tr>\n",
       "    <tr>\n",
       "      <th>1</th>\n",
       "      <td>102</td>\n",
       "      <td>US</td>\n",
       "      <td>25</td>\n",
       "      <td>12</td>\n",
       "      <td>Completed</td>\n",
       "    </tr>\n",
       "    <tr>\n",
       "      <th>2</th>\n",
       "      <td>103</td>\n",
       "      <td>DE</td>\n",
       "      <td>18</td>\n",
       "      <td>5</td>\n",
       "      <td>Terminated</td>\n",
       "    </tr>\n",
       "    <tr>\n",
       "      <th>3</th>\n",
       "      <td>104</td>\n",
       "      <td>FR</td>\n",
       "      <td>0</td>\n",
       "      <td>8</td>\n",
       "      <td>Active</td>\n",
       "    </tr>\n",
       "    <tr>\n",
       "      <th>4</th>\n",
       "      <td>105</td>\n",
       "      <td>IN</td>\n",
       "      <td>15</td>\n",
       "      <td>7</td>\n",
       "      <td>Completed</td>\n",
       "    </tr>\n",
       "  </tbody>\n",
       "</table>\n",
       "</div>"
      ],
      "text/plain": [
       "   Site_ID Country Screened  Randomized      Status\n",
       "0      101      IN       20          10      Active\n",
       "1      102      US       25          12   Completed\n",
       "2      103      DE       18           5  Terminated\n",
       "3      104      FR        0           8      Active\n",
       "4      105      IN       15           7   Completed"
      ]
     },
     "execution_count": 11,
     "metadata": {},
     "output_type": "execute_result"
    }
   ],
   "source": [
    "df"
   ]
  },
  {
   "cell_type": "code",
   "execution_count": 13,
   "id": "cb55b474-6d36-45cb-a004-c267b3855a76",
   "metadata": {},
   "outputs": [],
   "source": [
    "df['Screened'] = df['Screened'].astype(int)"
   ]
  },
  {
   "cell_type": "code",
   "execution_count": 14,
   "id": "193bcaf6-ecdd-49d2-ad2e-efea6ac3aeae",
   "metadata": {},
   "outputs": [
    {
     "data": {
      "text/html": [
       "<div>\n",
       "<style scoped>\n",
       "    .dataframe tbody tr th:only-of-type {\n",
       "        vertical-align: middle;\n",
       "    }\n",
       "\n",
       "    .dataframe tbody tr th {\n",
       "        vertical-align: top;\n",
       "    }\n",
       "\n",
       "    .dataframe thead th {\n",
       "        text-align: right;\n",
       "    }\n",
       "</style>\n",
       "<table border=\"1\" class=\"dataframe\">\n",
       "  <thead>\n",
       "    <tr style=\"text-align: right;\">\n",
       "      <th></th>\n",
       "      <th>Site_ID</th>\n",
       "      <th>Country</th>\n",
       "      <th>Screened</th>\n",
       "      <th>Randomized</th>\n",
       "      <th>Status</th>\n",
       "    </tr>\n",
       "  </thead>\n",
       "  <tbody>\n",
       "    <tr>\n",
       "      <th>0</th>\n",
       "      <td>101</td>\n",
       "      <td>IN</td>\n",
       "      <td>20</td>\n",
       "      <td>10</td>\n",
       "      <td>Active</td>\n",
       "    </tr>\n",
       "    <tr>\n",
       "      <th>1</th>\n",
       "      <td>102</td>\n",
       "      <td>US</td>\n",
       "      <td>25</td>\n",
       "      <td>12</td>\n",
       "      <td>Completed</td>\n",
       "    </tr>\n",
       "    <tr>\n",
       "      <th>2</th>\n",
       "      <td>103</td>\n",
       "      <td>DE</td>\n",
       "      <td>18</td>\n",
       "      <td>5</td>\n",
       "      <td>Terminated</td>\n",
       "    </tr>\n",
       "    <tr>\n",
       "      <th>3</th>\n",
       "      <td>104</td>\n",
       "      <td>FR</td>\n",
       "      <td>0</td>\n",
       "      <td>8</td>\n",
       "      <td>Active</td>\n",
       "    </tr>\n",
       "    <tr>\n",
       "      <th>4</th>\n",
       "      <td>105</td>\n",
       "      <td>IN</td>\n",
       "      <td>15</td>\n",
       "      <td>7</td>\n",
       "      <td>Completed</td>\n",
       "    </tr>\n",
       "  </tbody>\n",
       "</table>\n",
       "</div>"
      ],
      "text/plain": [
       "   Site_ID Country  Screened  Randomized      Status\n",
       "0      101      IN        20          10      Active\n",
       "1      102      US        25          12   Completed\n",
       "2      103      DE        18           5  Terminated\n",
       "3      104      FR         0           8      Active\n",
       "4      105      IN        15           7   Completed"
      ]
     },
     "execution_count": 14,
     "metadata": {},
     "output_type": "execute_result"
    }
   ],
   "source": [
    "df"
   ]
  },
  {
   "cell_type": "code",
   "execution_count": 15,
   "id": "d54b2a62-0fed-4d37-b860-9eaf69656e11",
   "metadata": {},
   "outputs": [
    {
     "data": {
      "text/plain": [
       "Site_ID        int64\n",
       "Country       object\n",
       "Screened       int32\n",
       "Randomized     int64\n",
       "Status        object\n",
       "dtype: object"
      ]
     },
     "execution_count": 15,
     "metadata": {},
     "output_type": "execute_result"
    }
   ],
   "source": [
    "df.dtypes"
   ]
  },
  {
   "cell_type": "code",
   "execution_count": 16,
   "id": "29d14930-5b29-446d-a4f0-0b3b8fd3c035",
   "metadata": {},
   "outputs": [],
   "source": [
    "def sf_rate(Screened,Randomized):\n",
    "    sf_rate = ((Screened - Randomized)/Screened.replace(0, 1)) *100\n",
    "    sf_rate = sf_rate.round(2)\n",
    "    return sf_rate\n",
    "    \n"
   ]
  },
  {
   "cell_type": "code",
   "execution_count": 17,
   "id": "7ab472c6-04a1-4250-b6a6-daa832b61dc4",
   "metadata": {},
   "outputs": [],
   "source": [
    "df['sf'] = sf_rate(df['Screened'], df['Randomized'])"
   ]
  },
  {
   "cell_type": "code",
   "execution_count": 18,
   "id": "775fd603-61de-4e8b-ad9c-6e8b251edb1a",
   "metadata": {},
   "outputs": [
    {
     "data": {
      "text/html": [
       "<div>\n",
       "<style scoped>\n",
       "    .dataframe tbody tr th:only-of-type {\n",
       "        vertical-align: middle;\n",
       "    }\n",
       "\n",
       "    .dataframe tbody tr th {\n",
       "        vertical-align: top;\n",
       "    }\n",
       "\n",
       "    .dataframe thead th {\n",
       "        text-align: right;\n",
       "    }\n",
       "</style>\n",
       "<table border=\"1\" class=\"dataframe\">\n",
       "  <thead>\n",
       "    <tr style=\"text-align: right;\">\n",
       "      <th></th>\n",
       "      <th>Site_ID</th>\n",
       "      <th>Country</th>\n",
       "      <th>Screened</th>\n",
       "      <th>Randomized</th>\n",
       "      <th>Status</th>\n",
       "      <th>sf</th>\n",
       "    </tr>\n",
       "  </thead>\n",
       "  <tbody>\n",
       "    <tr>\n",
       "      <th>0</th>\n",
       "      <td>101</td>\n",
       "      <td>IN</td>\n",
       "      <td>20</td>\n",
       "      <td>10</td>\n",
       "      <td>Active</td>\n",
       "      <td>50.00</td>\n",
       "    </tr>\n",
       "    <tr>\n",
       "      <th>1</th>\n",
       "      <td>102</td>\n",
       "      <td>US</td>\n",
       "      <td>25</td>\n",
       "      <td>12</td>\n",
       "      <td>Completed</td>\n",
       "      <td>52.00</td>\n",
       "    </tr>\n",
       "    <tr>\n",
       "      <th>2</th>\n",
       "      <td>103</td>\n",
       "      <td>DE</td>\n",
       "      <td>18</td>\n",
       "      <td>5</td>\n",
       "      <td>Terminated</td>\n",
       "      <td>72.22</td>\n",
       "    </tr>\n",
       "    <tr>\n",
       "      <th>3</th>\n",
       "      <td>104</td>\n",
       "      <td>FR</td>\n",
       "      <td>0</td>\n",
       "      <td>8</td>\n",
       "      <td>Active</td>\n",
       "      <td>-800.00</td>\n",
       "    </tr>\n",
       "    <tr>\n",
       "      <th>4</th>\n",
       "      <td>105</td>\n",
       "      <td>IN</td>\n",
       "      <td>15</td>\n",
       "      <td>7</td>\n",
       "      <td>Completed</td>\n",
       "      <td>53.33</td>\n",
       "    </tr>\n",
       "  </tbody>\n",
       "</table>\n",
       "</div>"
      ],
      "text/plain": [
       "   Site_ID Country  Screened  Randomized      Status      sf\n",
       "0      101      IN        20          10      Active   50.00\n",
       "1      102      US        25          12   Completed   52.00\n",
       "2      103      DE        18           5  Terminated   72.22\n",
       "3      104      FR         0           8      Active -800.00\n",
       "4      105      IN        15           7   Completed   53.33"
      ]
     },
     "execution_count": 18,
     "metadata": {},
     "output_type": "execute_result"
    }
   ],
   "source": [
    "df"
   ]
  },
  {
   "cell_type": "code",
   "execution_count": 20,
   "id": "cbc49e13-fb79-42a5-9ad5-8c15c6bfd2fc",
   "metadata": {},
   "outputs": [
    {
     "data": {
      "text/plain": [
       "5"
      ]
     },
     "execution_count": 20,
     "metadata": {},
     "output_type": "execute_result"
    }
   ],
   "source": [
    "df.shape[0]"
   ]
  },
  {
   "cell_type": "code",
   "execution_count": 19,
   "id": "d14efd81-ff23-420e-9cb8-000445caf9f9",
   "metadata": {},
   "outputs": [
    {
     "name": "stdout",
     "output_type": "stream",
     "text": [
      "Total Sites: 5\n",
      "Average Screened: 15.60\n",
      "Average Randomized: 8.40\n",
      "\n"
     ]
    }
   ],
   "source": [
    "print(f\"Total Sites: {df.shape[0]}\")\n",
    "print(f\"Average Screened: {df['Screened'].mean():.2f}\")\n",
    "print(f\"Average Randomized: {df['Randomized'].mean():.2f}\\n\")"
   ]
  },
  {
   "cell_type": "code",
   "execution_count": 21,
   "id": "a9fe4ec1-239d-4f0d-b473-10cfad48984b",
   "metadata": {},
   "outputs": [
    {
     "name": "stdout",
     "output_type": "stream",
     "text": [
      "Site 101 (IN) has a screen failure rate of 50.0%\n",
      "Site 102 (US) has a screen failure rate of 52.0%\n",
      "Site 103 (DE) has a screen failure rate of 72.22%\n",
      "Site 104 (FR) has a screen failure rate of -800.0%\n",
      "Site 105 (IN) has a screen failure rate of 53.33%\n"
     ]
    }
   ],
   "source": [
    "for _, row in df.iterrows():\n",
    "    print(f\"Site {row['Site_ID']} ({row['Country']}) has a screen failure rate of {row['sf']}%\")"
   ]
  },
  {
   "cell_type": "code",
   "execution_count": 23,
   "id": "01a4e87d-5e76-471a-8b8f-c6b6978e056f",
   "metadata": {},
   "outputs": [],
   "source": [
    "df.to_csv(\"C://Users//GIEWK//OneDrive - Bayer//Personal Data//Abhishek Bhalotia//pythonnotes//June2025//cleaned_feasibility_summary.csv\", index=False)"
   ]
  },
  {
   "cell_type": "code",
   "execution_count": null,
   "id": "53349c7d-eae7-4110-9d4c-9082b6d0df8a",
   "metadata": {},
   "outputs": [],
   "source": []
  }
 ],
 "metadata": {
  "kernelspec": {
   "display_name": "Python 3 (ipykernel)",
   "language": "python",
   "name": "python3"
  },
  "language_info": {
   "codemirror_mode": {
    "name": "ipython",
    "version": 3
   },
   "file_extension": ".py",
   "mimetype": "text/x-python",
   "name": "python",
   "nbconvert_exporter": "python",
   "pygments_lexer": "ipython3",
   "version": "3.12.4"
  }
 },
 "nbformat": 4,
 "nbformat_minor": 5
}
